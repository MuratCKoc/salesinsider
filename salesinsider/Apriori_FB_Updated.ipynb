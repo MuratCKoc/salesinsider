{
 "cells": [
  {
   "cell_type": "code",
   "execution_count": 2,
   "id": "behind-service",
   "metadata": {},
   "outputs": [],
   "source": [
    "# Import Dependencies\n",
    "import pandas as pd\n",
    "import numpy as np\n",
    "from sklearn import preprocessing\n",
    "#Transform transactions into a one-hot encoded NumPy array. \n",
    "from mlxtend.preprocessing import TransactionEncoder\n",
    "from mlxtend.frequent_patterns import apriori, association_rules"
   ]
  },
  {
   "cell_type": "code",
   "execution_count": null,
   "metadata": {},
   "outputs": [],
   "source": []
  },
  {
   "source": [
    "# Data Preparation"
   ],
   "cell_type": "code",
   "metadata": {},
   "execution_count": 3,
   "outputs": []
  },
  {
   "cell_type": "code",
   "execution_count": 4,
   "id": "documented-ability",
   "metadata": {},
   "outputs": [
    {
     "output_type": "execute_result",
     "data": {
      "text/plain": [
       "   Member_number        Date   itemDescription\n",
       "0           1808  21-07-2015    tropical fruit\n",
       "1           2552  05-01-2015        whole milk\n",
       "2           2300  19-09-2015         pip fruit\n",
       "3           1187  12-12-2015  other vegetables\n",
       "4           3037  01-02-2015        whole milk"
      ],
      "text/html": "<div>\n<style scoped>\n    .dataframe tbody tr th:only-of-type {\n        vertical-align: middle;\n    }\n\n    .dataframe tbody tr th {\n        vertical-align: top;\n    }\n\n    .dataframe thead th {\n        text-align: right;\n    }\n</style>\n<table border=\"1\" class=\"dataframe\">\n  <thead>\n    <tr style=\"text-align: right;\">\n      <th></th>\n      <th>Member_number</th>\n      <th>Date</th>\n      <th>itemDescription</th>\n    </tr>\n  </thead>\n  <tbody>\n    <tr>\n      <th>0</th>\n      <td>1808</td>\n      <td>21-07-2015</td>\n      <td>tropical fruit</td>\n    </tr>\n    <tr>\n      <th>1</th>\n      <td>2552</td>\n      <td>05-01-2015</td>\n      <td>whole milk</td>\n    </tr>\n    <tr>\n      <th>2</th>\n      <td>2300</td>\n      <td>19-09-2015</td>\n      <td>pip fruit</td>\n    </tr>\n    <tr>\n      <th>3</th>\n      <td>1187</td>\n      <td>12-12-2015</td>\n      <td>other vegetables</td>\n    </tr>\n    <tr>\n      <th>4</th>\n      <td>3037</td>\n      <td>01-02-2015</td>\n      <td>whole milk</td>\n    </tr>\n  </tbody>\n</table>\n</div>"
     },
     "metadata": {},
     "execution_count": 4
    }
   ],
   "source": [
    "# First we import the dataset that will be used for the training and testing process\n",
    "df = pd.read_csv('data/Groceries_dataset.csv')\n",
    "df.head()"
   ]
  },
  {
   "cell_type": "code",
   "execution_count": 5,
   "metadata": {},
   "outputs": [],
   "source": [
    "# Label Encoding Process\n",
    "\n",
    "# AsTo help make the digestion of the data easier, we will begin to encode the values into discrete forms."
   ]
  },
  {
   "cell_type": "code",
   "execution_count": 6,
   "id": "industrial-fever",
   "metadata": {},
   "outputs": [],
   "source": [
    "# Encode the dates into numbers\n",
    "le = preprocessing.LabelEncoder()\n",
    "le.fit(df['Date'])\n",
    "le_dict = dict(zip(le.classes_, le.transform(le.classes_)))"
   ]
  },
  {
   "cell_type": "code",
   "execution_count": 7,
   "id": "sixth-continent",
   "metadata": {},
   "outputs": [
    {
     "output_type": "execute_result",
     "data": {
      "text/plain": [
       "{'01-01-2014': 0,\n",
       " '01-01-2015': 1,\n",
       " '01-02-2014': 2,\n",
       " '01-02-2015': 3,\n",
       " '01-03-2014': 4}"
      ]
     },
     "metadata": {},
     "execution_count": 7
    }
   ],
   "source": [
    "# Now that we have converted the dates to discrete numbers we do a sense check to determine if that has been properly coded.\n",
    "dict(list(le_dict.items())[0:5])\n",
    "# We see that it has and then proceed forward."
   ]
  },
  {
   "cell_type": "code",
   "execution_count": 8,
   "id": "fundamental-logistics",
   "metadata": {},
   "outputs": [
    {
     "output_type": "stream",
     "name": "stdout",
     "text": [
      "<class 'pandas.core.frame.DataFrame'>\nIndex: 0 entries\nEmpty DataFrame"
     ]
    }
   ],
   "source": [
    "categorical_df = pd.DataFrame()\n",
    "categorical_df.info()"
   ]
  },
  {
   "cell_type": "code",
   "execution_count": 9,
   "id": "painful-sally",
   "metadata": {},
   "outputs": [
    {
     "output_type": "execute_result",
     "data": {
      "text/plain": [
       "            0\n",
       "01-01-2014  0\n",
       "01-01-2015  1\n",
       "01-02-2014  2\n",
       "01-02-2015  3\n",
       "01-03-2014  4"
      ],
      "text/html": "<div>\n<style scoped>\n    .dataframe tbody tr th:only-of-type {\n        vertical-align: middle;\n    }\n\n    .dataframe tbody tr th {\n        vertical-align: top;\n    }\n\n    .dataframe thead th {\n        text-align: right;\n    }\n</style>\n<table border=\"1\" class=\"dataframe\">\n  <thead>\n    <tr style=\"text-align: right;\">\n      <th></th>\n      <th>0</th>\n    </tr>\n  </thead>\n  <tbody>\n    <tr>\n      <th>01-01-2014</th>\n      <td>0</td>\n    </tr>\n    <tr>\n      <th>01-01-2015</th>\n      <td>1</td>\n    </tr>\n    <tr>\n      <th>01-02-2014</th>\n      <td>2</td>\n    </tr>\n    <tr>\n      <th>01-02-2015</th>\n      <td>3</td>\n    </tr>\n    <tr>\n      <th>01-03-2014</th>\n      <td>4</td>\n    </tr>\n  </tbody>\n</table>\n</div>"
     },
     "metadata": {},
     "execution_count": 9
    }
   ],
   "source": [
    "#categorical_df['Date'] = le.dict\n",
    "new_df = pd.DataFrame.from_dict(le_dict, orient='index')\n",
    "new_df.head()"
   ]
  },
  {
   "cell_type": "code",
   "execution_count": 10,
   "id": "arabic-portland",
   "metadata": {},
   "outputs": [],
   "source": [
    "# new_df.rename['0']"
   ]
  },
  {
   "cell_type": "code",
   "execution_count": 11,
   "id": "antique-booth",
   "metadata": {},
   "outputs": [
    {
     "output_type": "execute_result",
     "data": {
      "text/plain": [
       "       Member_number        Date itemDescription    0\n",
       "36938           3559  12-11-2014         napkins  284\n",
       "37264           3287  12-11-2014         cleaner  284\n",
       "37269           1312  12-11-2014     soft cheese  284\n",
       "37989           3914  12-11-2014   specialty bar  284\n",
       "38216           2111  12-11-2014   domestic eggs  284"
      ],
      "text/html": "<div>\n<style scoped>\n    .dataframe tbody tr th:only-of-type {\n        vertical-align: middle;\n    }\n\n    .dataframe tbody tr th {\n        vertical-align: top;\n    }\n\n    .dataframe thead th {\n        text-align: right;\n    }\n</style>\n<table border=\"1\" class=\"dataframe\">\n  <thead>\n    <tr style=\"text-align: right;\">\n      <th></th>\n      <th>Member_number</th>\n      <th>Date</th>\n      <th>itemDescription</th>\n      <th>0</th>\n    </tr>\n  </thead>\n  <tbody>\n    <tr>\n      <th>36938</th>\n      <td>3559</td>\n      <td>12-11-2014</td>\n      <td>napkins</td>\n      <td>284</td>\n    </tr>\n    <tr>\n      <th>37264</th>\n      <td>3287</td>\n      <td>12-11-2014</td>\n      <td>cleaner</td>\n      <td>284</td>\n    </tr>\n    <tr>\n      <th>37269</th>\n      <td>1312</td>\n      <td>12-11-2014</td>\n      <td>soft cheese</td>\n      <td>284</td>\n    </tr>\n    <tr>\n      <th>37989</th>\n      <td>3914</td>\n      <td>12-11-2014</td>\n      <td>specialty bar</td>\n      <td>284</td>\n    </tr>\n    <tr>\n      <th>38216</th>\n      <td>2111</td>\n      <td>12-11-2014</td>\n      <td>domestic eggs</td>\n      <td>284</td>\n    </tr>\n  </tbody>\n</table>\n</div>"
     },
     "metadata": {},
     "execution_count": 11
    }
   ],
   "source": [
    "merged_df = pd.merge(df,new_df,left_on='Date',right_index=True)\n",
    "merged_df.tail()"
   ]
  },
  {
   "cell_type": "code",
   "execution_count": 12,
   "id": "derived-finnish",
   "metadata": {},
   "outputs": [
    {
     "output_type": "execute_result",
     "data": {
      "text/plain": [
       "     Member_number        Date itemDescription  date\n",
       "0             1808  21-07-2015  tropical fruit   493\n",
       "12            1997  21-07-2015     frankfurter   493\n",
       "14            4736  21-07-2015          butter   493\n",
       "213           3812  21-07-2015         sausage   493\n",
       "318           4429  21-07-2015          grapes   493"
      ],
      "text/html": "<div>\n<style scoped>\n    .dataframe tbody tr th:only-of-type {\n        vertical-align: middle;\n    }\n\n    .dataframe tbody tr th {\n        vertical-align: top;\n    }\n\n    .dataframe thead th {\n        text-align: right;\n    }\n</style>\n<table border=\"1\" class=\"dataframe\">\n  <thead>\n    <tr style=\"text-align: right;\">\n      <th></th>\n      <th>Member_number</th>\n      <th>Date</th>\n      <th>itemDescription</th>\n      <th>date</th>\n    </tr>\n  </thead>\n  <tbody>\n    <tr>\n      <th>0</th>\n      <td>1808</td>\n      <td>21-07-2015</td>\n      <td>tropical fruit</td>\n      <td>493</td>\n    </tr>\n    <tr>\n      <th>12</th>\n      <td>1997</td>\n      <td>21-07-2015</td>\n      <td>frankfurter</td>\n      <td>493</td>\n    </tr>\n    <tr>\n      <th>14</th>\n      <td>4736</td>\n      <td>21-07-2015</td>\n      <td>butter</td>\n      <td>493</td>\n    </tr>\n    <tr>\n      <th>213</th>\n      <td>3812</td>\n      <td>21-07-2015</td>\n      <td>sausage</td>\n      <td>493</td>\n    </tr>\n    <tr>\n      <th>318</th>\n      <td>4429</td>\n      <td>21-07-2015</td>\n      <td>grapes</td>\n      <td>493</td>\n    </tr>\n  </tbody>\n</table>\n</div>"
     },
     "metadata": {},
     "execution_count": 12
    }
   ],
   "source": [
    "merged_df.columns.values[3] = 'date'\n",
    "merged_df.head()"
   ]
  },
  {
   "cell_type": "code",
   "execution_count": 23,
   "id": "athletic-reducing",
   "metadata": {},
   "outputs": [
    {
     "output_type": "execute_result",
     "data": {
      "text/plain": [
       "     Member_number        Date itemDescription  date\n",
       "0             1808  21-07-2015  tropical fruit   493\n",
       "12            1997  21-07-2015     frankfurter   493\n",
       "14            4736  21-07-2015          butter   493\n",
       "213           3812  21-07-2015         sausage   493\n",
       "318           4429  21-07-2015          grapes   493"
      ],
      "text/html": "<div>\n<style scoped>\n    .dataframe tbody tr th:only-of-type {\n        vertical-align: middle;\n    }\n\n    .dataframe tbody tr th {\n        vertical-align: top;\n    }\n\n    .dataframe thead th {\n        text-align: right;\n    }\n</style>\n<table border=\"1\" class=\"dataframe\">\n  <thead>\n    <tr style=\"text-align: right;\">\n      <th></th>\n      <th>Member_number</th>\n      <th>Date</th>\n      <th>itemDescription</th>\n      <th>date</th>\n    </tr>\n  </thead>\n  <tbody>\n    <tr>\n      <th>0</th>\n      <td>1808</td>\n      <td>21-07-2015</td>\n      <td>tropical fruit</td>\n      <td>493</td>\n    </tr>\n    <tr>\n      <th>12</th>\n      <td>1997</td>\n      <td>21-07-2015</td>\n      <td>frankfurter</td>\n      <td>493</td>\n    </tr>\n    <tr>\n      <th>14</th>\n      <td>4736</td>\n      <td>21-07-2015</td>\n      <td>butter</td>\n      <td>493</td>\n    </tr>\n    <tr>\n      <th>213</th>\n      <td>3812</td>\n      <td>21-07-2015</td>\n      <td>sausage</td>\n      <td>493</td>\n    </tr>\n    <tr>\n      <th>318</th>\n      <td>4429</td>\n      <td>21-07-2015</td>\n      <td>grapes</td>\n      <td>493</td>\n    </tr>\n  </tbody>\n</table>\n</div>"
     },
     "metadata": {},
     "execution_count": 23
    }
   ],
   "source": [
    "# Come back to this as it is currently not working.\n",
    "merged_df.drop(columns=['Date'],axis=0)\n",
    "merged_df.head()"
   ]
  },
  {
   "cell_type": "code",
   "execution_count": 48,
   "id": "asian-major",
   "metadata": {},
   "outputs": [],
   "source": [
    "# We then do a groupby function focusing on the Date as the primary key.\n",
    "basket = (merged_df\n",
    "          .groupby(['Date', 'itemDescription'])['itemDescription']\n",
    "          .sum().unstack().reset_index().fillna(0)\n",
    "          .set_index('Date'))"
   ]
  },
  {
   "cell_type": "code",
   "execution_count": 49,
   "metadata": {},
   "outputs": [
    {
     "output_type": "execute_result",
     "data": {
      "text/plain": [
       "itemDescription                       Instant food products  UHT-milk  \\\n",
       "Date                                                                    \n",
       "01-01-2014       Instant food productsInstant food products         0   \n",
       "01-01-2015                                                0         0   \n",
       "01-02-2014                                                0         0   \n",
       "01-02-2015                                                0  UHT-milk   \n",
       "01-03-2014                                                0         0   \n",
       "...                                                     ...       ...   \n",
       "31-07-2015                                                0         0   \n",
       "31-08-2014                                                0  UHT-milk   \n",
       "31-08-2015                                                0         0   \n",
       "31-10-2014                                                0         0   \n",
       "31-10-2015                                                0         0   \n",
       "\n",
       "itemDescription abrasive cleaner  artif. sweetener baby cosmetics bags  \\\n",
       "Date                                                                     \n",
       "01-01-2014                     0                 0              0    0   \n",
       "01-01-2015                     0                 0              0    0   \n",
       "01-02-2014                     0                 0              0    0   \n",
       "01-02-2015                     0  artif. sweetener              0    0   \n",
       "01-03-2014                     0                 0              0    0   \n",
       "...                          ...               ...            ...  ...   \n",
       "31-07-2015                     0                 0              0    0   \n",
       "31-08-2014                     0                 0              0    0   \n",
       "31-08-2015                     0                 0              0    0   \n",
       "31-10-2014                     0                 0              0    0   \n",
       "31-10-2015                     0                 0              0    0   \n",
       "\n",
       "itemDescription baking powder bathroom cleaner      beef  berries  ...  \\\n",
       "Date                                                               ...   \n",
       "01-01-2014                  0                0         0  berries  ...   \n",
       "01-01-2015                  0                0      beef        0  ...   \n",
       "01-02-2014                  0                0  beefbeef        0  ...   \n",
       "01-02-2015                  0                0  beefbeef        0  ...   \n",
       "01-03-2014                  0                0         0  berries  ...   \n",
       "...                       ...              ...       ...      ...  ...   \n",
       "31-07-2015                  0                0         0        0  ...   \n",
       "31-08-2014                  0                0      beef        0  ...   \n",
       "31-08-2015                  0                0         0  berries  ...   \n",
       "31-10-2014                  0                0      beef        0  ...   \n",
       "31-10-2015                  0                0  beefbeef        0  ...   \n",
       "\n",
       "itemDescription  turkey  vinegar         waffles  \\\n",
       "Date                                               \n",
       "01-01-2014            0        0  waffleswaffles   \n",
       "01-01-2015       turkey        0               0   \n",
       "01-02-2014            0        0  waffleswaffles   \n",
       "01-02-2015            0        0         waffles   \n",
       "01-03-2014            0        0         waffles   \n",
       "...                 ...      ...             ...   \n",
       "31-07-2015            0  vinegar               0   \n",
       "31-08-2014            0        0         waffles   \n",
       "31-08-2015            0        0               0   \n",
       "31-10-2014            0        0               0   \n",
       "31-10-2015            0        0               0   \n",
       "\n",
       "itemDescription                                 whipped/sour cream  whisky  \\\n",
       "Date                                                                         \n",
       "01-01-2014                    whipped/sour creamwhipped/sour cream       0   \n",
       "01-01-2015                                      whipped/sour cream       0   \n",
       "01-02-2014                                      whipped/sour cream       0   \n",
       "01-02-2015                                                       0       0   \n",
       "01-03-2014       whipped/sour creamwhipped/sour creamwhipped/so...       0   \n",
       "...                                                            ...     ...   \n",
       "31-07-2015                    whipped/sour creamwhipped/sour cream       0   \n",
       "31-08-2014                                                       0       0   \n",
       "31-08-2015                                      whipped/sour cream  whisky   \n",
       "31-10-2014                                                       0       0   \n",
       "31-10-2015                                      whipped/sour cream       0   \n",
       "\n",
       "itemDescription  white bread  white wine  \\\n",
       "Date                                       \n",
       "01-01-2014                 0           0   \n",
       "01-01-2015       white bread           0   \n",
       "01-02-2014       white bread           0   \n",
       "01-02-2015       white bread           0   \n",
       "01-03-2014       white bread           0   \n",
       "...                      ...         ...   \n",
       "31-07-2015                 0           0   \n",
       "31-08-2014                 0  white wine   \n",
       "31-08-2015                 0           0   \n",
       "31-10-2014                 0  white wine   \n",
       "31-10-2015                 0           0   \n",
       "\n",
       "itemDescription                                         whole milk  \\\n",
       "Date                                                                 \n",
       "01-01-2014                                    whole milkwhole milk   \n",
       "01-01-2015                          whole milkwhole milkwhole milk   \n",
       "01-02-2014                                              whole milk   \n",
       "01-02-2015       whole milkwhole milkwhole milkwhole milkwhole ...   \n",
       "01-03-2014                                              whole milk   \n",
       "...                                                            ...   \n",
       "31-07-2015       whole milkwhole milkwhole milkwhole milkwhole ...   \n",
       "31-08-2014                whole milkwhole milkwhole milkwhole milk   \n",
       "31-08-2015                          whole milkwhole milkwhole milk   \n",
       "31-10-2014                                    whole milkwhole milk   \n",
       "31-10-2015                                    whole milkwhole milk   \n",
       "\n",
       "itemDescription                                yogurt zwieback  \n",
       "Date                                                            \n",
       "01-01-2014                   yogurtyogurtyogurtyogurt        0  \n",
       "01-01-2015                                          0        0  \n",
       "01-02-2014                         yogurtyogurtyogurt        0  \n",
       "01-02-2015       yogurtyogurtyogurtyogurtyogurtyogurt        0  \n",
       "01-03-2014                                     yogurt        0  \n",
       "...                                               ...      ...  \n",
       "31-07-2015                                     yogurt        0  \n",
       "31-08-2014                         yogurtyogurtyogurt        0  \n",
       "31-08-2015                         yogurtyogurtyogurt        0  \n",
       "31-10-2014                                     yogurt        0  \n",
       "31-10-2015                               yogurtyogurt        0  \n",
       "\n",
       "[728 rows x 167 columns]"
      ],
      "text/html": "<div>\n<style scoped>\n    .dataframe tbody tr th:only-of-type {\n        vertical-align: middle;\n    }\n\n    .dataframe tbody tr th {\n        vertical-align: top;\n    }\n\n    .dataframe thead th {\n        text-align: right;\n    }\n</style>\n<table border=\"1\" class=\"dataframe\">\n  <thead>\n    <tr style=\"text-align: right;\">\n      <th>itemDescription</th>\n      <th>Instant food products</th>\n      <th>UHT-milk</th>\n      <th>abrasive cleaner</th>\n      <th>artif. sweetener</th>\n      <th>baby cosmetics</th>\n      <th>bags</th>\n      <th>baking powder</th>\n      <th>bathroom cleaner</th>\n      <th>beef</th>\n      <th>berries</th>\n      <th>...</th>\n      <th>turkey</th>\n      <th>vinegar</th>\n      <th>waffles</th>\n      <th>whipped/sour cream</th>\n      <th>whisky</th>\n      <th>white bread</th>\n      <th>white wine</th>\n      <th>whole milk</th>\n      <th>yogurt</th>\n      <th>zwieback</th>\n    </tr>\n    <tr>\n      <th>Date</th>\n      <th></th>\n      <th></th>\n      <th></th>\n      <th></th>\n      <th></th>\n      <th></th>\n      <th></th>\n      <th></th>\n      <th></th>\n      <th></th>\n      <th></th>\n      <th></th>\n      <th></th>\n      <th></th>\n      <th></th>\n      <th></th>\n      <th></th>\n      <th></th>\n      <th></th>\n      <th></th>\n      <th></th>\n    </tr>\n  </thead>\n  <tbody>\n    <tr>\n      <th>01-01-2014</th>\n      <td>Instant food productsInstant food products</td>\n      <td>0</td>\n      <td>0</td>\n      <td>0</td>\n      <td>0</td>\n      <td>0</td>\n      <td>0</td>\n      <td>0</td>\n      <td>0</td>\n      <td>berries</td>\n      <td>...</td>\n      <td>0</td>\n      <td>0</td>\n      <td>waffleswaffles</td>\n      <td>whipped/sour creamwhipped/sour cream</td>\n      <td>0</td>\n      <td>0</td>\n      <td>0</td>\n      <td>whole milkwhole milk</td>\n      <td>yogurtyogurtyogurtyogurt</td>\n      <td>0</td>\n    </tr>\n    <tr>\n      <th>01-01-2015</th>\n      <td>0</td>\n      <td>0</td>\n      <td>0</td>\n      <td>0</td>\n      <td>0</td>\n      <td>0</td>\n      <td>0</td>\n      <td>0</td>\n      <td>beef</td>\n      <td>0</td>\n      <td>...</td>\n      <td>turkey</td>\n      <td>0</td>\n      <td>0</td>\n      <td>whipped/sour cream</td>\n      <td>0</td>\n      <td>white bread</td>\n      <td>0</td>\n      <td>whole milkwhole milkwhole milk</td>\n      <td>0</td>\n      <td>0</td>\n    </tr>\n    <tr>\n      <th>01-02-2014</th>\n      <td>0</td>\n      <td>0</td>\n      <td>0</td>\n      <td>0</td>\n      <td>0</td>\n      <td>0</td>\n      <td>0</td>\n      <td>0</td>\n      <td>beefbeef</td>\n      <td>0</td>\n      <td>...</td>\n      <td>0</td>\n      <td>0</td>\n      <td>waffleswaffles</td>\n      <td>whipped/sour cream</td>\n      <td>0</td>\n      <td>white bread</td>\n      <td>0</td>\n      <td>whole milk</td>\n      <td>yogurtyogurtyogurt</td>\n      <td>0</td>\n    </tr>\n    <tr>\n      <th>01-02-2015</th>\n      <td>0</td>\n      <td>UHT-milk</td>\n      <td>0</td>\n      <td>artif. sweetener</td>\n      <td>0</td>\n      <td>0</td>\n      <td>0</td>\n      <td>0</td>\n      <td>beefbeef</td>\n      <td>0</td>\n      <td>...</td>\n      <td>0</td>\n      <td>0</td>\n      <td>waffles</td>\n      <td>0</td>\n      <td>0</td>\n      <td>white bread</td>\n      <td>0</td>\n      <td>whole milkwhole milkwhole milkwhole milkwhole ...</td>\n      <td>yogurtyogurtyogurtyogurtyogurtyogurt</td>\n      <td>0</td>\n    </tr>\n    <tr>\n      <th>01-03-2014</th>\n      <td>0</td>\n      <td>0</td>\n      <td>0</td>\n      <td>0</td>\n      <td>0</td>\n      <td>0</td>\n      <td>0</td>\n      <td>0</td>\n      <td>0</td>\n      <td>berries</td>\n      <td>...</td>\n      <td>0</td>\n      <td>0</td>\n      <td>waffles</td>\n      <td>whipped/sour creamwhipped/sour creamwhipped/so...</td>\n      <td>0</td>\n      <td>white bread</td>\n      <td>0</td>\n      <td>whole milk</td>\n      <td>yogurt</td>\n      <td>0</td>\n    </tr>\n    <tr>\n      <th>...</th>\n      <td>...</td>\n      <td>...</td>\n      <td>...</td>\n      <td>...</td>\n      <td>...</td>\n      <td>...</td>\n      <td>...</td>\n      <td>...</td>\n      <td>...</td>\n      <td>...</td>\n      <td>...</td>\n      <td>...</td>\n      <td>...</td>\n      <td>...</td>\n      <td>...</td>\n      <td>...</td>\n      <td>...</td>\n      <td>...</td>\n      <td>...</td>\n      <td>...</td>\n      <td>...</td>\n    </tr>\n    <tr>\n      <th>31-07-2015</th>\n      <td>0</td>\n      <td>0</td>\n      <td>0</td>\n      <td>0</td>\n      <td>0</td>\n      <td>0</td>\n      <td>0</td>\n      <td>0</td>\n      <td>0</td>\n      <td>0</td>\n      <td>...</td>\n      <td>0</td>\n      <td>vinegar</td>\n      <td>0</td>\n      <td>whipped/sour creamwhipped/sour cream</td>\n      <td>0</td>\n      <td>0</td>\n      <td>0</td>\n      <td>whole milkwhole milkwhole milkwhole milkwhole ...</td>\n      <td>yogurt</td>\n      <td>0</td>\n    </tr>\n    <tr>\n      <th>31-08-2014</th>\n      <td>0</td>\n      <td>UHT-milk</td>\n      <td>0</td>\n      <td>0</td>\n      <td>0</td>\n      <td>0</td>\n      <td>0</td>\n      <td>0</td>\n      <td>beef</td>\n      <td>0</td>\n      <td>...</td>\n      <td>0</td>\n      <td>0</td>\n      <td>waffles</td>\n      <td>0</td>\n      <td>0</td>\n      <td>0</td>\n      <td>white wine</td>\n      <td>whole milkwhole milkwhole milkwhole milk</td>\n      <td>yogurtyogurtyogurt</td>\n      <td>0</td>\n    </tr>\n    <tr>\n      <th>31-08-2015</th>\n      <td>0</td>\n      <td>0</td>\n      <td>0</td>\n      <td>0</td>\n      <td>0</td>\n      <td>0</td>\n      <td>0</td>\n      <td>0</td>\n      <td>0</td>\n      <td>berries</td>\n      <td>...</td>\n      <td>0</td>\n      <td>0</td>\n      <td>0</td>\n      <td>whipped/sour cream</td>\n      <td>whisky</td>\n      <td>0</td>\n      <td>0</td>\n      <td>whole milkwhole milkwhole milk</td>\n      <td>yogurtyogurtyogurt</td>\n      <td>0</td>\n    </tr>\n    <tr>\n      <th>31-10-2014</th>\n      <td>0</td>\n      <td>0</td>\n      <td>0</td>\n      <td>0</td>\n      <td>0</td>\n      <td>0</td>\n      <td>0</td>\n      <td>0</td>\n      <td>beef</td>\n      <td>0</td>\n      <td>...</td>\n      <td>0</td>\n      <td>0</td>\n      <td>0</td>\n      <td>0</td>\n      <td>0</td>\n      <td>0</td>\n      <td>white wine</td>\n      <td>whole milkwhole milk</td>\n      <td>yogurt</td>\n      <td>0</td>\n    </tr>\n    <tr>\n      <th>31-10-2015</th>\n      <td>0</td>\n      <td>0</td>\n      <td>0</td>\n      <td>0</td>\n      <td>0</td>\n      <td>0</td>\n      <td>0</td>\n      <td>0</td>\n      <td>beefbeef</td>\n      <td>0</td>\n      <td>...</td>\n      <td>0</td>\n      <td>0</td>\n      <td>0</td>\n      <td>whipped/sour cream</td>\n      <td>0</td>\n      <td>0</td>\n      <td>0</td>\n      <td>whole milkwhole milk</td>\n      <td>yogurtyogurt</td>\n      <td>0</td>\n    </tr>\n  </tbody>\n</table>\n<p>728 rows × 167 columns</p>\n</div>"
     },
     "metadata": {},
     "execution_count": 49
    }
   ],
   "source": [
    "basket"
   ]
  },
  {
   "cell_type": "code",
   "execution_count": 50,
   "metadata": {},
   "outputs": [
    {
     "output_type": "execute_result",
     "data": {
      "text/plain": [
       "Index(['Instant food products', 'UHT-milk', 'abrasive cleaner',\n",
       "       'artif. sweetener', 'baby cosmetics', 'bags', 'baking powder',\n",
       "       'bathroom cleaner', 'beef', 'berries',\n",
       "       ...\n",
       "       'turkey', 'vinegar', 'waffles', 'whipped/sour cream', 'whisky',\n",
       "       'white bread', 'white wine', 'whole milk', 'yogurt', 'zwieback'],\n",
       "      dtype='object', name='itemDescription', length=167)"
      ]
     },
     "metadata": {},
     "execution_count": 50
    }
   ],
   "source": [
    "# We then convert the column values into numerical\n",
    "basket.columns\n"
   ]
  },
  {
   "cell_type": "code",
   "execution_count": null,
   "metadata": {},
   "outputs": [],
   "source": []
  }
 ],
 "metadata": {
  "kernelspec": {
   "display_name": "Python 3",
   "language": "python",
   "name": "python3"
  },
  "language_info": {
   "codemirror_mode": {
    "name": "ipython",
    "version": 3
   },
   "file_extension": ".py",
   "mimetype": "text/x-python",
   "name": "python",
   "nbconvert_exporter": "python",
   "pygments_lexer": "ipython3",
   "version": "3.8.5-final"
  }
 },
 "nbformat": 4,
 "nbformat_minor": 5
}
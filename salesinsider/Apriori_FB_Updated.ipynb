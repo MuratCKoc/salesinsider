{
 "cells": [
  {
   "cell_type": "code",
   "execution_count": 1,
   "id": "behind-service",
   "metadata": {},
   "outputs": [],
   "source": [
    "# Import Dependencies\n",
    "import pandas as pd\n",
    "import numpy as np\n",
    "from sklearn import preprocessing\n",
    "#Transform transactions into a one-hot encoded NumPy array. \n",
    "from mlxtend.preprocessing import TransactionEncoder\n",
    "from mlxtend.frequent_patterns import apriori, association_rules"
   ]
  },
  {
   "cell_type": "code",
   "execution_count": null,
   "metadata": {},
   "outputs": [],
   "source": []
  },
  {
   "source": [
    "# Data Preparation"
   ],
   "cell_type": "code",
   "metadata": {},
   "execution_count": 2,
   "outputs": []
  },
  {
   "cell_type": "code",
   "execution_count": 3,
   "id": "documented-ability",
   "metadata": {},
   "outputs": [
    {
     "output_type": "execute_result",
     "data": {
      "text/plain": [
       "   Member_number        Date   itemDescription\n",
       "0           1808  21-07-2015    tropical fruit\n",
       "1           2552  05-01-2015        whole milk\n",
       "2           2300  19-09-2015         pip fruit\n",
       "3           1187  12-12-2015  other vegetables\n",
       "4           3037  01-02-2015        whole milk"
      ],
      "text/html": "<div>\n<style scoped>\n    .dataframe tbody tr th:only-of-type {\n        vertical-align: middle;\n    }\n\n    .dataframe tbody tr th {\n        vertical-align: top;\n    }\n\n    .dataframe thead th {\n        text-align: right;\n    }\n</style>\n<table border=\"1\" class=\"dataframe\">\n  <thead>\n    <tr style=\"text-align: right;\">\n      <th></th>\n      <th>Member_number</th>\n      <th>Date</th>\n      <th>itemDescription</th>\n    </tr>\n  </thead>\n  <tbody>\n    <tr>\n      <th>0</th>\n      <td>1808</td>\n      <td>21-07-2015</td>\n      <td>tropical fruit</td>\n    </tr>\n    <tr>\n      <th>1</th>\n      <td>2552</td>\n      <td>05-01-2015</td>\n      <td>whole milk</td>\n    </tr>\n    <tr>\n      <th>2</th>\n      <td>2300</td>\n      <td>19-09-2015</td>\n      <td>pip fruit</td>\n    </tr>\n    <tr>\n      <th>3</th>\n      <td>1187</td>\n      <td>12-12-2015</td>\n      <td>other vegetables</td>\n    </tr>\n    <tr>\n      <th>4</th>\n      <td>3037</td>\n      <td>01-02-2015</td>\n      <td>whole milk</td>\n    </tr>\n  </tbody>\n</table>\n</div>"
     },
     "metadata": {},
     "execution_count": 3
    }
   ],
   "source": [
    "# First we import the dataset that will be used for the training and testing process\n",
    "df = pd.read_csv('data/Groceries_dataset.csv')\n",
    "df.head()"
   ]
  },
  {
   "cell_type": "code",
   "execution_count": 4,
   "metadata": {},
   "outputs": [],
   "source": [
    "# Label Encoding Process\n",
    "\n",
    "# AsTo help make the digestion of the data easier, we will begin to encode the values into discrete forms."
   ]
  },
  {
   "cell_type": "code",
   "execution_count": 5,
   "id": "industrial-fever",
   "metadata": {},
   "outputs": [],
   "source": [
    "# Encode the dates into numbers\n",
    "le = preprocessing.LabelEncoder()\n",
    "le.fit(df['Date'])\n",
    "le_dict = dict(zip(le.classes_, le.transform(le.classes_)))"
   ]
  },
  {
   "cell_type": "code",
   "execution_count": 6,
   "id": "sixth-continent",
   "metadata": {},
   "outputs": [
    {
     "output_type": "execute_result",
     "data": {
      "text/plain": [
       "{'01-01-2014': 0,\n",
       " '01-01-2015': 1,\n",
       " '01-02-2014': 2,\n",
       " '01-02-2015': 3,\n",
       " '01-03-2014': 4}"
      ]
     },
     "metadata": {},
     "execution_count": 6
    }
   ],
   "source": [
    "# Now that we have converted the dates to discrete numbers we do a sense check to determine if that has been properly coded.\n",
    "dict(list(le_dict.items())[0:5])\n",
    "# We see that it has and then proceed forward."
   ]
  },
  {
   "cell_type": "code",
   "execution_count": 7,
   "id": "fundamental-logistics",
   "metadata": {},
   "outputs": [
    {
     "output_type": "stream",
     "name": "stdout",
     "text": [
      "<class 'pandas.core.frame.DataFrame'>\nIndex: 0 entries\nEmpty DataFrame"
     ]
    }
   ],
   "source": [
    "categorical_df = pd.DataFrame()\n",
    "categorical_df.info()"
   ]
  },
  {
   "cell_type": "code",
   "execution_count": 8,
   "id": "painful-sally",
   "metadata": {},
   "outputs": [
    {
     "output_type": "execute_result",
     "data": {
      "text/plain": [
       "            0\n",
       "01-01-2014  0\n",
       "01-01-2015  1\n",
       "01-02-2014  2\n",
       "01-02-2015  3\n",
       "01-03-2014  4"
      ],
      "text/html": "<div>\n<style scoped>\n    .dataframe tbody tr th:only-of-type {\n        vertical-align: middle;\n    }\n\n    .dataframe tbody tr th {\n        vertical-align: top;\n    }\n\n    .dataframe thead th {\n        text-align: right;\n    }\n</style>\n<table border=\"1\" class=\"dataframe\">\n  <thead>\n    <tr style=\"text-align: right;\">\n      <th></th>\n      <th>0</th>\n    </tr>\n  </thead>\n  <tbody>\n    <tr>\n      <th>01-01-2014</th>\n      <td>0</td>\n    </tr>\n    <tr>\n      <th>01-01-2015</th>\n      <td>1</td>\n    </tr>\n    <tr>\n      <th>01-02-2014</th>\n      <td>2</td>\n    </tr>\n    <tr>\n      <th>01-02-2015</th>\n      <td>3</td>\n    </tr>\n    <tr>\n      <th>01-03-2014</th>\n      <td>4</td>\n    </tr>\n  </tbody>\n</table>\n</div>"
     },
     "metadata": {},
     "execution_count": 8
    }
   ],
   "source": [
    "#categorical_df['Date'] = le.dict\n",
    "new_df = pd.DataFrame.from_dict(le_dict, orient='index')\n",
    "new_df.head()"
   ]
  },
  {
   "cell_type": "code",
   "execution_count": 10,
   "id": "antique-booth",
   "metadata": {},
   "outputs": [
    {
     "output_type": "execute_result",
     "data": {
      "text/plain": [
       "       Member_number        Date itemDescription    0\n",
       "36938           3559  12-11-2014         napkins  284\n",
       "37264           3287  12-11-2014         cleaner  284\n",
       "37269           1312  12-11-2014     soft cheese  284\n",
       "37989           3914  12-11-2014   specialty bar  284\n",
       "38216           2111  12-11-2014   domestic eggs  284"
      ],
      "text/html": "<div>\n<style scoped>\n    .dataframe tbody tr th:only-of-type {\n        vertical-align: middle;\n    }\n\n    .dataframe tbody tr th {\n        vertical-align: top;\n    }\n\n    .dataframe thead th {\n        text-align: right;\n    }\n</style>\n<table border=\"1\" class=\"dataframe\">\n  <thead>\n    <tr style=\"text-align: right;\">\n      <th></th>\n      <th>Member_number</th>\n      <th>Date</th>\n      <th>itemDescription</th>\n      <th>0</th>\n    </tr>\n  </thead>\n  <tbody>\n    <tr>\n      <th>36938</th>\n      <td>3559</td>\n      <td>12-11-2014</td>\n      <td>napkins</td>\n      <td>284</td>\n    </tr>\n    <tr>\n      <th>37264</th>\n      <td>3287</td>\n      <td>12-11-2014</td>\n      <td>cleaner</td>\n      <td>284</td>\n    </tr>\n    <tr>\n      <th>37269</th>\n      <td>1312</td>\n      <td>12-11-2014</td>\n      <td>soft cheese</td>\n      <td>284</td>\n    </tr>\n    <tr>\n      <th>37989</th>\n      <td>3914</td>\n      <td>12-11-2014</td>\n      <td>specialty bar</td>\n      <td>284</td>\n    </tr>\n    <tr>\n      <th>38216</th>\n      <td>2111</td>\n      <td>12-11-2014</td>\n      <td>domestic eggs</td>\n      <td>284</td>\n    </tr>\n  </tbody>\n</table>\n</div>"
     },
     "metadata": {},
     "execution_count": 10
    }
   ],
   "source": [
    "merged_df = pd.merge(df,new_df,left_on='Date',right_index=True)\n",
    "merged_df.tail()"
   ]
  },
  {
   "cell_type": "code",
   "execution_count": 11,
   "id": "derived-finnish",
   "metadata": {},
   "outputs": [
    {
     "output_type": "execute_result",
     "data": {
      "text/plain": [
       "     Member_number        Date itemDescription  date\n",
       "0             1808  21-07-2015  tropical fruit   493\n",
       "12            1997  21-07-2015     frankfurter   493\n",
       "14            4736  21-07-2015          butter   493\n",
       "213           3812  21-07-2015         sausage   493\n",
       "318           4429  21-07-2015          grapes   493"
      ],
      "text/html": "<div>\n<style scoped>\n    .dataframe tbody tr th:only-of-type {\n        vertical-align: middle;\n    }\n\n    .dataframe tbody tr th {\n        vertical-align: top;\n    }\n\n    .dataframe thead th {\n        text-align: right;\n    }\n</style>\n<table border=\"1\" class=\"dataframe\">\n  <thead>\n    <tr style=\"text-align: right;\">\n      <th></th>\n      <th>Member_number</th>\n      <th>Date</th>\n      <th>itemDescription</th>\n      <th>date</th>\n    </tr>\n  </thead>\n  <tbody>\n    <tr>\n      <th>0</th>\n      <td>1808</td>\n      <td>21-07-2015</td>\n      <td>tropical fruit</td>\n      <td>493</td>\n    </tr>\n    <tr>\n      <th>12</th>\n      <td>1997</td>\n      <td>21-07-2015</td>\n      <td>frankfurter</td>\n      <td>493</td>\n    </tr>\n    <tr>\n      <th>14</th>\n      <td>4736</td>\n      <td>21-07-2015</td>\n      <td>butter</td>\n      <td>493</td>\n    </tr>\n    <tr>\n      <th>213</th>\n      <td>3812</td>\n      <td>21-07-2015</td>\n      <td>sausage</td>\n      <td>493</td>\n    </tr>\n    <tr>\n      <th>318</th>\n      <td>4429</td>\n      <td>21-07-2015</td>\n      <td>grapes</td>\n      <td>493</td>\n    </tr>\n  </tbody>\n</table>\n</div>"
     },
     "metadata": {},
     "execution_count": 11
    }
   ],
   "source": [
    "# We then merge the 'date' column into the table.\n",
    "merged_df.columns.values[3] = 'date'\n",
    "merged_df.head()"
   ]
  },
  {
   "cell_type": "code",
   "execution_count": 12,
   "id": "athletic-reducing",
   "metadata": {},
   "outputs": [
    {
     "output_type": "execute_result",
     "data": {
      "text/plain": [
       "     Member_number        Date itemDescription  date\n",
       "0             1808  21-07-2015  tropical fruit   493\n",
       "12            1997  21-07-2015     frankfurter   493\n",
       "14            4736  21-07-2015          butter   493\n",
       "213           3812  21-07-2015         sausage   493\n",
       "318           4429  21-07-2015          grapes   493"
      ],
      "text/html": "<div>\n<style scoped>\n    .dataframe tbody tr th:only-of-type {\n        vertical-align: middle;\n    }\n\n    .dataframe tbody tr th {\n        vertical-align: top;\n    }\n\n    .dataframe thead th {\n        text-align: right;\n    }\n</style>\n<table border=\"1\" class=\"dataframe\">\n  <thead>\n    <tr style=\"text-align: right;\">\n      <th></th>\n      <th>Member_number</th>\n      <th>Date</th>\n      <th>itemDescription</th>\n      <th>date</th>\n    </tr>\n  </thead>\n  <tbody>\n    <tr>\n      <th>0</th>\n      <td>1808</td>\n      <td>21-07-2015</td>\n      <td>tropical fruit</td>\n      <td>493</td>\n    </tr>\n    <tr>\n      <th>12</th>\n      <td>1997</td>\n      <td>21-07-2015</td>\n      <td>frankfurter</td>\n      <td>493</td>\n    </tr>\n    <tr>\n      <th>14</th>\n      <td>4736</td>\n      <td>21-07-2015</td>\n      <td>butter</td>\n      <td>493</td>\n    </tr>\n    <tr>\n      <th>213</th>\n      <td>3812</td>\n      <td>21-07-2015</td>\n      <td>sausage</td>\n      <td>493</td>\n    </tr>\n    <tr>\n      <th>318</th>\n      <td>4429</td>\n      <td>21-07-2015</td>\n      <td>grapes</td>\n      <td>493</td>\n    </tr>\n  </tbody>\n</table>\n</div>"
     },
     "metadata": {},
     "execution_count": 12
    }
   ],
   "source": [
    "# This can be deleted as we no longer need it, the Date column is suitable.\n",
    "# Come back to this as it is currently not working.\n",
    "merged_df.drop(columns=['Date'],axis=0)\n",
    "merged_df.head()"
   ]
  },
  {
   "cell_type": "code",
   "execution_count": 13,
   "id": "asian-major",
   "metadata": {},
   "outputs": [],
   "source": [
    "# We then do a groupby function focusing on the Date as the primary key.\n",
    "basket = (merged_df\n",
    "          .groupby(['Date', 'itemDescription'])['itemDescription']\n",
    "          .count().unstack().reset_index().fillna(0)\n",
    "          .set_index('Date'))"
   ]
  },
  {
   "cell_type": "code",
   "execution_count": 14,
   "metadata": {},
   "outputs": [
    {
     "output_type": "execute_result",
     "data": {
      "text/plain": [
       "itemDescription  Instant food products  UHT-milk  abrasive cleaner  \\\n",
       "Date                                                                 \n",
       "01-01-2014                         2.0       0.0               0.0   \n",
       "01-01-2015                         0.0       0.0               0.0   \n",
       "01-02-2014                         0.0       0.0               0.0   \n",
       "01-02-2015                         0.0       1.0               0.0   \n",
       "01-03-2014                         0.0       0.0               0.0   \n",
       "...                                ...       ...               ...   \n",
       "31-07-2015                         0.0       0.0               0.0   \n",
       "31-08-2014                         0.0       1.0               0.0   \n",
       "31-08-2015                         0.0       0.0               0.0   \n",
       "31-10-2014                         0.0       0.0               0.0   \n",
       "31-10-2015                         0.0       0.0               0.0   \n",
       "\n",
       "itemDescription  artif. sweetener  baby cosmetics  bags  baking powder  \\\n",
       "Date                                                                     \n",
       "01-01-2014                    0.0             0.0   0.0            0.0   \n",
       "01-01-2015                    0.0             0.0   0.0            0.0   \n",
       "01-02-2014                    0.0             0.0   0.0            0.0   \n",
       "01-02-2015                    1.0             0.0   0.0            0.0   \n",
       "01-03-2014                    0.0             0.0   0.0            0.0   \n",
       "...                           ...             ...   ...            ...   \n",
       "31-07-2015                    0.0             0.0   0.0            0.0   \n",
       "31-08-2014                    0.0             0.0   0.0            0.0   \n",
       "31-08-2015                    0.0             0.0   0.0            0.0   \n",
       "31-10-2014                    0.0             0.0   0.0            0.0   \n",
       "31-10-2015                    0.0             0.0   0.0            0.0   \n",
       "\n",
       "itemDescription  bathroom cleaner  beef  berries  ...  turkey  vinegar  \\\n",
       "Date                                              ...                    \n",
       "01-01-2014                    0.0   0.0      1.0  ...     0.0      0.0   \n",
       "01-01-2015                    0.0   1.0      0.0  ...     1.0      0.0   \n",
       "01-02-2014                    0.0   2.0      0.0  ...     0.0      0.0   \n",
       "01-02-2015                    0.0   2.0      0.0  ...     0.0      0.0   \n",
       "01-03-2014                    0.0   0.0      1.0  ...     0.0      0.0   \n",
       "...                           ...   ...      ...  ...     ...      ...   \n",
       "31-07-2015                    0.0   0.0      0.0  ...     0.0      1.0   \n",
       "31-08-2014                    0.0   1.0      0.0  ...     0.0      0.0   \n",
       "31-08-2015                    0.0   0.0      1.0  ...     0.0      0.0   \n",
       "31-10-2014                    0.0   1.0      0.0  ...     0.0      0.0   \n",
       "31-10-2015                    0.0   2.0      0.0  ...     0.0      0.0   \n",
       "\n",
       "itemDescription  waffles  whipped/sour cream  whisky  white bread  white wine  \\\n",
       "Date                                                                            \n",
       "01-01-2014           2.0                 2.0     0.0          0.0         0.0   \n",
       "01-01-2015           0.0                 1.0     0.0          1.0         0.0   \n",
       "01-02-2014           2.0                 1.0     0.0          1.0         0.0   \n",
       "01-02-2015           1.0                 0.0     0.0          1.0         0.0   \n",
       "01-03-2014           1.0                 3.0     0.0          1.0         0.0   \n",
       "...                  ...                 ...     ...          ...         ...   \n",
       "31-07-2015           0.0                 2.0     0.0          0.0         0.0   \n",
       "31-08-2014           1.0                 0.0     0.0          0.0         1.0   \n",
       "31-08-2015           0.0                 1.0     1.0          0.0         0.0   \n",
       "31-10-2014           0.0                 0.0     0.0          0.0         1.0   \n",
       "31-10-2015           0.0                 1.0     0.0          0.0         0.0   \n",
       "\n",
       "itemDescription  whole milk  yogurt  zwieback  \n",
       "Date                                           \n",
       "01-01-2014              2.0     4.0       0.0  \n",
       "01-01-2015              3.0     0.0       0.0  \n",
       "01-02-2014              1.0     3.0       0.0  \n",
       "01-02-2015              9.0     6.0       0.0  \n",
       "01-03-2014              1.0     1.0       0.0  \n",
       "...                     ...     ...       ...  \n",
       "31-07-2015              6.0     1.0       0.0  \n",
       "31-08-2014              4.0     3.0       0.0  \n",
       "31-08-2015              3.0     3.0       0.0  \n",
       "31-10-2014              2.0     1.0       0.0  \n",
       "31-10-2015              2.0     2.0       0.0  \n",
       "\n",
       "[728 rows x 167 columns]"
      ],
      "text/html": "<div>\n<style scoped>\n    .dataframe tbody tr th:only-of-type {\n        vertical-align: middle;\n    }\n\n    .dataframe tbody tr th {\n        vertical-align: top;\n    }\n\n    .dataframe thead th {\n        text-align: right;\n    }\n</style>\n<table border=\"1\" class=\"dataframe\">\n  <thead>\n    <tr style=\"text-align: right;\">\n      <th>itemDescription</th>\n      <th>Instant food products</th>\n      <th>UHT-milk</th>\n      <th>abrasive cleaner</th>\n      <th>artif. sweetener</th>\n      <th>baby cosmetics</th>\n      <th>bags</th>\n      <th>baking powder</th>\n      <th>bathroom cleaner</th>\n      <th>beef</th>\n      <th>berries</th>\n      <th>...</th>\n      <th>turkey</th>\n      <th>vinegar</th>\n      <th>waffles</th>\n      <th>whipped/sour cream</th>\n      <th>whisky</th>\n      <th>white bread</th>\n      <th>white wine</th>\n      <th>whole milk</th>\n      <th>yogurt</th>\n      <th>zwieback</th>\n    </tr>\n    <tr>\n      <th>Date</th>\n      <th></th>\n      <th></th>\n      <th></th>\n      <th></th>\n      <th></th>\n      <th></th>\n      <th></th>\n      <th></th>\n      <th></th>\n      <th></th>\n      <th></th>\n      <th></th>\n      <th></th>\n      <th></th>\n      <th></th>\n      <th></th>\n      <th></th>\n      <th></th>\n      <th></th>\n      <th></th>\n      <th></th>\n    </tr>\n  </thead>\n  <tbody>\n    <tr>\n      <th>01-01-2014</th>\n      <td>2.0</td>\n      <td>0.0</td>\n      <td>0.0</td>\n      <td>0.0</td>\n      <td>0.0</td>\n      <td>0.0</td>\n      <td>0.0</td>\n      <td>0.0</td>\n      <td>0.0</td>\n      <td>1.0</td>\n      <td>...</td>\n      <td>0.0</td>\n      <td>0.0</td>\n      <td>2.0</td>\n      <td>2.0</td>\n      <td>0.0</td>\n      <td>0.0</td>\n      <td>0.0</td>\n      <td>2.0</td>\n      <td>4.0</td>\n      <td>0.0</td>\n    </tr>\n    <tr>\n      <th>01-01-2015</th>\n      <td>0.0</td>\n      <td>0.0</td>\n      <td>0.0</td>\n      <td>0.0</td>\n      <td>0.0</td>\n      <td>0.0</td>\n      <td>0.0</td>\n      <td>0.0</td>\n      <td>1.0</td>\n      <td>0.0</td>\n      <td>...</td>\n      <td>1.0</td>\n      <td>0.0</td>\n      <td>0.0</td>\n      <td>1.0</td>\n      <td>0.0</td>\n      <td>1.0</td>\n      <td>0.0</td>\n      <td>3.0</td>\n      <td>0.0</td>\n      <td>0.0</td>\n    </tr>\n    <tr>\n      <th>01-02-2014</th>\n      <td>0.0</td>\n      <td>0.0</td>\n      <td>0.0</td>\n      <td>0.0</td>\n      <td>0.0</td>\n      <td>0.0</td>\n      <td>0.0</td>\n      <td>0.0</td>\n      <td>2.0</td>\n      <td>0.0</td>\n      <td>...</td>\n      <td>0.0</td>\n      <td>0.0</td>\n      <td>2.0</td>\n      <td>1.0</td>\n      <td>0.0</td>\n      <td>1.0</td>\n      <td>0.0</td>\n      <td>1.0</td>\n      <td>3.0</td>\n      <td>0.0</td>\n    </tr>\n    <tr>\n      <th>01-02-2015</th>\n      <td>0.0</td>\n      <td>1.0</td>\n      <td>0.0</td>\n      <td>1.0</td>\n      <td>0.0</td>\n      <td>0.0</td>\n      <td>0.0</td>\n      <td>0.0</td>\n      <td>2.0</td>\n      <td>0.0</td>\n      <td>...</td>\n      <td>0.0</td>\n      <td>0.0</td>\n      <td>1.0</td>\n      <td>0.0</td>\n      <td>0.0</td>\n      <td>1.0</td>\n      <td>0.0</td>\n      <td>9.0</td>\n      <td>6.0</td>\n      <td>0.0</td>\n    </tr>\n    <tr>\n      <th>01-03-2014</th>\n      <td>0.0</td>\n      <td>0.0</td>\n      <td>0.0</td>\n      <td>0.0</td>\n      <td>0.0</td>\n      <td>0.0</td>\n      <td>0.0</td>\n      <td>0.0</td>\n      <td>0.0</td>\n      <td>1.0</td>\n      <td>...</td>\n      <td>0.0</td>\n      <td>0.0</td>\n      <td>1.0</td>\n      <td>3.0</td>\n      <td>0.0</td>\n      <td>1.0</td>\n      <td>0.0</td>\n      <td>1.0</td>\n      <td>1.0</td>\n      <td>0.0</td>\n    </tr>\n    <tr>\n      <th>...</th>\n      <td>...</td>\n      <td>...</td>\n      <td>...</td>\n      <td>...</td>\n      <td>...</td>\n      <td>...</td>\n      <td>...</td>\n      <td>...</td>\n      <td>...</td>\n      <td>...</td>\n      <td>...</td>\n      <td>...</td>\n      <td>...</td>\n      <td>...</td>\n      <td>...</td>\n      <td>...</td>\n      <td>...</td>\n      <td>...</td>\n      <td>...</td>\n      <td>...</td>\n      <td>...</td>\n    </tr>\n    <tr>\n      <th>31-07-2015</th>\n      <td>0.0</td>\n      <td>0.0</td>\n      <td>0.0</td>\n      <td>0.0</td>\n      <td>0.0</td>\n      <td>0.0</td>\n      <td>0.0</td>\n      <td>0.0</td>\n      <td>0.0</td>\n      <td>0.0</td>\n      <td>...</td>\n      <td>0.0</td>\n      <td>1.0</td>\n      <td>0.0</td>\n      <td>2.0</td>\n      <td>0.0</td>\n      <td>0.0</td>\n      <td>0.0</td>\n      <td>6.0</td>\n      <td>1.0</td>\n      <td>0.0</td>\n    </tr>\n    <tr>\n      <th>31-08-2014</th>\n      <td>0.0</td>\n      <td>1.0</td>\n      <td>0.0</td>\n      <td>0.0</td>\n      <td>0.0</td>\n      <td>0.0</td>\n      <td>0.0</td>\n      <td>0.0</td>\n      <td>1.0</td>\n      <td>0.0</td>\n      <td>...</td>\n      <td>0.0</td>\n      <td>0.0</td>\n      <td>1.0</td>\n      <td>0.0</td>\n      <td>0.0</td>\n      <td>0.0</td>\n      <td>1.0</td>\n      <td>4.0</td>\n      <td>3.0</td>\n      <td>0.0</td>\n    </tr>\n    <tr>\n      <th>31-08-2015</th>\n      <td>0.0</td>\n      <td>0.0</td>\n      <td>0.0</td>\n      <td>0.0</td>\n      <td>0.0</td>\n      <td>0.0</td>\n      <td>0.0</td>\n      <td>0.0</td>\n      <td>0.0</td>\n      <td>1.0</td>\n      <td>...</td>\n      <td>0.0</td>\n      <td>0.0</td>\n      <td>0.0</td>\n      <td>1.0</td>\n      <td>1.0</td>\n      <td>0.0</td>\n      <td>0.0</td>\n      <td>3.0</td>\n      <td>3.0</td>\n      <td>0.0</td>\n    </tr>\n    <tr>\n      <th>31-10-2014</th>\n      <td>0.0</td>\n      <td>0.0</td>\n      <td>0.0</td>\n      <td>0.0</td>\n      <td>0.0</td>\n      <td>0.0</td>\n      <td>0.0</td>\n      <td>0.0</td>\n      <td>1.0</td>\n      <td>0.0</td>\n      <td>...</td>\n      <td>0.0</td>\n      <td>0.0</td>\n      <td>0.0</td>\n      <td>0.0</td>\n      <td>0.0</td>\n      <td>0.0</td>\n      <td>1.0</td>\n      <td>2.0</td>\n      <td>1.0</td>\n      <td>0.0</td>\n    </tr>\n    <tr>\n      <th>31-10-2015</th>\n      <td>0.0</td>\n      <td>0.0</td>\n      <td>0.0</td>\n      <td>0.0</td>\n      <td>0.0</td>\n      <td>0.0</td>\n      <td>0.0</td>\n      <td>0.0</td>\n      <td>2.0</td>\n      <td>0.0</td>\n      <td>...</td>\n      <td>0.0</td>\n      <td>0.0</td>\n      <td>0.0</td>\n      <td>1.0</td>\n      <td>0.0</td>\n      <td>0.0</td>\n      <td>0.0</td>\n      <td>2.0</td>\n      <td>2.0</td>\n      <td>0.0</td>\n    </tr>\n  </tbody>\n</table>\n<p>728 rows × 167 columns</p>\n</div>"
     },
     "metadata": {},
     "execution_count": 14
    }
   ],
   "source": [
    "basket"
   ]
  },
  {
   "cell_type": "code",
   "execution_count": 15,
   "metadata": {},
   "outputs": [],
   "source": [
    "def encode_units(x):\n",
    "    if x <= 0:\n",
    "        return 0\n",
    "    if x >= 1:\n",
    "        return 1\n",
    "\n",
    "basket_sets = basket.applymap(encode_units)"
   ]
  },
  {
   "cell_type": "code",
   "execution_count": 76,
   "metadata": {},
   "outputs": [],
   "source": [
    "# NOTE: Minimum Support will only function at 0.15, would recommend further investigation as to why this is the case. If proceeding to <0.15, the system goes into a loop.\n",
    "frequent_itemsets = apriori(basket_sets, min_support=0.15, use_colnames=True)"
   ]
  },
  {
   "cell_type": "code",
   "execution_count": 75,
   "metadata": {},
   "outputs": [
    {
     "output_type": "execute_result",
     "data": {
      "text/plain": [
       "      antecedents     consequents  antecedent support  consequent support  \\\n",
       "0  (bottled beer)      (UHT-milk)            0.578297            0.365385   \n",
       "1      (UHT-milk)  (bottled beer)            0.365385            0.578297   \n",
       "2   (brown bread)      (UHT-milk)            0.545330            0.365385   \n",
       "3      (UHT-milk)   (brown bread)            0.365385            0.545330   \n",
       "4        (butter)      (UHT-milk)            0.506868            0.365385   \n",
       "\n",
       "    support  confidence      lift  leverage  conviction  \n",
       "0  0.219780    0.380048  1.040130  0.008480    1.023652  \n",
       "1  0.219780    0.601504  1.040130  0.008480    1.058237  \n",
       "2  0.204670    0.375315  1.027178  0.005415    1.015896  \n",
       "3  0.204670    0.560150  1.027178  0.005415    1.033695  \n",
       "4  0.197802    0.390244  1.068036  0.012600    1.040769  "
      ],
      "text/html": "<div>\n<style scoped>\n    .dataframe tbody tr th:only-of-type {\n        vertical-align: middle;\n    }\n\n    .dataframe tbody tr th {\n        vertical-align: top;\n    }\n\n    .dataframe thead th {\n        text-align: right;\n    }\n</style>\n<table border=\"1\" class=\"dataframe\">\n  <thead>\n    <tr style=\"text-align: right;\">\n      <th></th>\n      <th>antecedents</th>\n      <th>consequents</th>\n      <th>antecedent support</th>\n      <th>consequent support</th>\n      <th>support</th>\n      <th>confidence</th>\n      <th>lift</th>\n      <th>leverage</th>\n      <th>conviction</th>\n    </tr>\n  </thead>\n  <tbody>\n    <tr>\n      <th>0</th>\n      <td>(bottled beer)</td>\n      <td>(UHT-milk)</td>\n      <td>0.578297</td>\n      <td>0.365385</td>\n      <td>0.219780</td>\n      <td>0.380048</td>\n      <td>1.040130</td>\n      <td>0.008480</td>\n      <td>1.023652</td>\n    </tr>\n    <tr>\n      <th>1</th>\n      <td>(UHT-milk)</td>\n      <td>(bottled beer)</td>\n      <td>0.365385</td>\n      <td>0.578297</td>\n      <td>0.219780</td>\n      <td>0.601504</td>\n      <td>1.040130</td>\n      <td>0.008480</td>\n      <td>1.058237</td>\n    </tr>\n    <tr>\n      <th>2</th>\n      <td>(brown bread)</td>\n      <td>(UHT-milk)</td>\n      <td>0.545330</td>\n      <td>0.365385</td>\n      <td>0.204670</td>\n      <td>0.375315</td>\n      <td>1.027178</td>\n      <td>0.005415</td>\n      <td>1.015896</td>\n    </tr>\n    <tr>\n      <th>3</th>\n      <td>(UHT-milk)</td>\n      <td>(brown bread)</td>\n      <td>0.365385</td>\n      <td>0.545330</td>\n      <td>0.204670</td>\n      <td>0.560150</td>\n      <td>1.027178</td>\n      <td>0.005415</td>\n      <td>1.033695</td>\n    </tr>\n    <tr>\n      <th>4</th>\n      <td>(butter)</td>\n      <td>(UHT-milk)</td>\n      <td>0.506868</td>\n      <td>0.365385</td>\n      <td>0.197802</td>\n      <td>0.390244</td>\n      <td>1.068036</td>\n      <td>0.012600</td>\n      <td>1.040769</td>\n    </tr>\n  </tbody>\n</table>\n</div>"
     },
     "metadata": {},
     "execution_count": 75
    }
   ],
   "source": [
    "rules = association_rules(frequent_itemsets, metric=\"lift\", min_threshold=1)\n",
    "rules.head()"
   ]
  },
  {
   "cell_type": "code",
   "execution_count": null,
   "metadata": {},
   "outputs": [],
   "source": []
  },
  {
   "cell_type": "code",
   "execution_count": 70,
   "metadata": {},
   "outputs": [
    {
     "output_type": "stream",
     "name": "stdout",
     "text": [
      "9\n"
     ]
    }
   ],
   "source": [
    "# This will help tell us how many were designed by the system.\n",
    "rules_list = list(rules)\n",
    "print(len(rules_list))"
   ]
  },
  {
   "cell_type": "code",
   "execution_count": 71,
   "metadata": {},
   "outputs": [
    {
     "output_type": "execute_result",
     "data": {
      "text/plain": [
       "'antecedents'"
      ]
     },
     "metadata": {},
     "execution_count": 71
    }
   ],
   "source": [
    "rules_list[0]"
   ]
  },
  {
   "cell_type": "code",
   "execution_count": 72,
   "metadata": {},
   "outputs": [
    {
     "output_type": "error",
     "ename": "TypeError",
     "evalue": "apriori() got an unexpected keyword argument 'min_lift'",
     "traceback": [
      "\u001b[1;31m---------------------------------------------------------------------------\u001b[0m",
      "\u001b[1;31mTypeError\u001b[0m                                 Traceback (most recent call last)",
      "\u001b[1;32m<ipython-input-72-1fce69d8b930>\u001b[0m in \u001b[0;36m<module>\u001b[1;34m\u001b[0m\n\u001b[1;32m----> 1\u001b[1;33m \u001b[0mfrequent_itemsets_rules\u001b[0m \u001b[1;33m=\u001b[0m \u001b[0mapriori\u001b[0m\u001b[1;33m(\u001b[0m\u001b[0mbasket_sets\u001b[0m\u001b[1;33m,\u001b[0m \u001b[0mmin_support\u001b[0m\u001b[1;33m=\u001b[0m\u001b[1;36m0.12\u001b[0m\u001b[1;33m,\u001b[0m \u001b[0mmin_lift\u001b[0m \u001b[1;33m=\u001b[0m \u001b[1;36m3\u001b[0m\u001b[1;33m,\u001b[0m \u001b[0mmin_length\u001b[0m \u001b[1;33m=\u001b[0m \u001b[1;36m3\u001b[0m\u001b[1;33m)\u001b[0m\u001b[1;33m\u001b[0m\u001b[1;33m\u001b[0m\u001b[0m\n\u001b[0m\u001b[0;32m      2\u001b[0m \u001b[0mfrequent_itemsets_rules_list\u001b[0m \u001b[1;33m=\u001b[0m \u001b[0mlist\u001b[0m\u001b[1;33m(\u001b[0m\u001b[0mfrequent_itemsets_rules\u001b[0m\u001b[1;33m)\u001b[0m\u001b[1;33m\u001b[0m\u001b[1;33m\u001b[0m\u001b[0m\n",
      "\u001b[1;31mTypeError\u001b[0m: apriori() got an unexpected keyword argument 'min_lift'"
     ]
    }
   ],
   "source": []
  },
  {
   "cell_type": "code",
   "execution_count": null,
   "metadata": {},
   "outputs": [],
   "source": []
  }
 ],
 "metadata": {
  "kernelspec": {
   "display_name": "Python 3",
   "language": "python",
   "name": "python3"
  },
  "language_info": {
   "codemirror_mode": {
    "name": "ipython",
    "version": 3
   },
   "file_extension": ".py",
   "mimetype": "text/x-python",
   "name": "python",
   "nbconvert_exporter": "python",
   "pygments_lexer": "ipython3",
   "version": "3.8.5-final"
  }
 },
 "nbformat": 4,
 "nbformat_minor": 5
}
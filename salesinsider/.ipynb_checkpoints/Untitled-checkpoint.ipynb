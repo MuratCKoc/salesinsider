{
 "cells": [
  {
   "cell_type": "code",
   "execution_count": 40,
   "id": "determined-composer",
   "metadata": {},
   "outputs": [],
   "source": [
    "import pandas as pd\n",
    "import numpy as np\n",
    "from config import database_url"
   ]
  },
  {
   "cell_type": "code",
   "execution_count": 4,
   "id": "happy-olympus",
   "metadata": {},
   "outputs": [
    {
     "name": "stdout",
     "output_type": "stream",
     "text": [
      "          Date  Instant_food_products_Predicted Instant_food_products  \\\n",
      "0   2014-01-01                              0.0                   2.0   \n",
      "1   2014-01-02                              0.0                   0.0   \n",
      "2   2014-01-03                              0.0                   0.0   \n",
      "3   2014-01-04                              0.0                   0.0   \n",
      "4   2014-01-05                              0.0                   0.0   \n",
      "..         ...                              ...                   ...   \n",
      "936 2016-07-26                              0.0                         \n",
      "937 2016-07-27                              0.0                         \n",
      "938 2016-07-28                              0.0                         \n",
      "939 2016-07-29                              0.0                         \n",
      "940 2016-07-30                              0.0                         \n",
      "\n",
      "     UHT-milk_Predicted UHT-milk  abrasive_cleaner_Predicted abrasive_cleaner  \\\n",
      "0                   0.0      0.0                         0.0              0.0   \n",
      "1                   0.0      0.0                         0.0              0.0   \n",
      "2                   0.0      0.0                         0.0              0.0   \n",
      "3                   0.0      1.0                         0.0              0.0   \n",
      "4                   1.0      0.0                         0.0              0.0   \n",
      "..                  ...      ...                         ...              ...   \n",
      "936                 0.0                                  0.0                    \n",
      "937                 1.0                                  0.0                    \n",
      "938                 0.0                                  0.0                    \n",
      "939                 0.0                                  0.0                    \n",
      "940                 0.0                                  0.0                    \n",
      "\n",
      "     artif_sweetener_Predicted artif_sweetener  baby_cosmetics_Predicted  ...  \\\n",
      "0                          0.0             0.0                       0.0  ...   \n",
      "1                          0.0             0.0                       0.0  ...   \n",
      "2                          0.0             0.0                       0.0  ...   \n",
      "3                          0.0             1.0                       0.0  ...   \n",
      "4                          0.0             0.0                       0.0  ...   \n",
      "..                         ...             ...                       ...  ...   \n",
      "936                        0.0                                       0.0  ...   \n",
      "937                        0.0                                       0.0  ...   \n",
      "938                        0.0                                       0.0  ...   \n",
      "939                        0.0                                       0.0  ...   \n",
      "940                        0.0                                       0.0  ...   \n",
      "\n",
      "    white_bread_Predicted  white_bread white_wine_Predicted  white_wine  \\\n",
      "0                     1.0          0.0                  0.0         0.0   \n",
      "1                     1.0          1.0                  0.0         0.0   \n",
      "2                     1.0          1.0                  0.0         0.0   \n",
      "3                     1.0          1.0                  0.0         0.0   \n",
      "4                     1.0          1.0                  0.0         0.0   \n",
      "..                    ...          ...                  ...         ...   \n",
      "936                   0.0                               0.0               \n",
      "937                   0.0                               0.0               \n",
      "938                   0.0                               0.0               \n",
      "939                   0.0                               0.0               \n",
      "940                   0.0                               0.0               \n",
      "\n",
      "    whole_milk_Predicted  whole_milk yogurt_Predicted  yogurt  \\\n",
      "0                    3.0         2.0              2.0     4.0   \n",
      "1                    2.0         3.0              2.0     0.0   \n",
      "2                    2.0         1.0              2.0     3.0   \n",
      "3                    3.0         9.0              2.0     6.0   \n",
      "4                    3.0         1.0              2.0     1.0   \n",
      "..                   ...         ...              ...     ...   \n",
      "936                  5.0                          2.0           \n",
      "937                  5.0                          2.0           \n",
      "938                  5.0                          2.0           \n",
      "939                  5.0                          2.0           \n",
      "940                  5.0                          2.0           \n",
      "\n",
      "    zwieback_Predicted  zwieback  \n",
      "0                  0.0       0.0  \n",
      "1                  0.0       0.0  \n",
      "2                  0.0       0.0  \n",
      "3                  0.0       0.0  \n",
      "4                  0.0       0.0  \n",
      "..                 ...       ...  \n",
      "936                0.0            \n",
      "937                0.0            \n",
      "938                0.0            \n",
      "939                0.0            \n",
      "940                0.0            \n",
      "\n",
      "[941 rows x 335 columns]\n"
     ]
    }
   ],
   "source": [
    "    sel = pd.read_sql_table('predicted_table', database_url)\n",
    "    sel = sel.drop(sel.columns[0], axis=1)\n",
    "\n",
    "    sel['Date'] = sel['Date'].dt.strftime('%Y-%m-%d')"
   ]
  },
  {
   "cell_type": "code",
   "execution_count": 26,
   "id": "optional-ultimate",
   "metadata": {},
   "outputs": [
    {
     "name": "stdout",
     "output_type": "stream",
     "text": [
      "<class 'pandas.core.frame.DataFrame'>\n",
      "RangeIndex: 941 entries, 0 to 940\n",
      "Columns: 335 entries, Date to zwieback\n",
      "dtypes: float64(334), object(1)\n",
      "memory usage: 2.4+ MB\n"
     ]
    }
   ],
   "source": [
    "\n",
    "# Convert the entire dataframe data types into numeric for calculations\n",
    "calc_df = sel.apply(pd.to_numeric, errors='ignore')\n",
    "calc_df.info()\n"
   ]
  },
  {
   "cell_type": "code",
   "execution_count": 34,
   "id": "imperial-header",
   "metadata": {},
   "outputs": [
    {
     "name": "stdout",
     "output_type": "stream",
     "text": [
      "941\n"
     ]
    }
   ],
   "source": [
    "sum_price = calc_df['whole_milk'].sum()\n",
    "sum_price\n",
    "print(len(calc_df.))"
   ]
  },
  {
   "cell_type": "code",
   "execution_count": 41,
   "id": "adapted-breeding",
   "metadata": {},
   "outputs": [
    {
     "name": "stdout",
     "output_type": "stream",
     "text": [
      "CN Date\n"
     ]
    },
    {
     "ename": "TypeError",
     "evalue": "_sum() got an unexpected keyword argument 'skipna'",
     "output_type": "error",
     "traceback": [
      "\u001b[0;31m---------------------------------------------------------------------------\u001b[0m",
      "\u001b[0;31mTypeError\u001b[0m                                 Traceback (most recent call last)",
      "\u001b[0;32m<ipython-input-41-379086233d1b>\u001b[0m in \u001b[0;36m<module>\u001b[0;34m\u001b[0m\n\u001b[1;32m      1\u001b[0m \u001b[0;32mfor\u001b[0m \u001b[0mcolumnName\u001b[0m\u001b[0;34m,\u001b[0m \u001b[0mcolumnData\u001b[0m \u001b[0;32min\u001b[0m \u001b[0mcalc_df\u001b[0m\u001b[0;34m.\u001b[0m\u001b[0miteritems\u001b[0m\u001b[0;34m(\u001b[0m\u001b[0;34m)\u001b[0m\u001b[0;34m:\u001b[0m\u001b[0;34m\u001b[0m\u001b[0;34m\u001b[0m\u001b[0m\n\u001b[1;32m      2\u001b[0m     \u001b[0mprint\u001b[0m\u001b[0;34m(\u001b[0m\u001b[0;34m'CN'\u001b[0m\u001b[0;34m,\u001b[0m \u001b[0mcolumnName\u001b[0m\u001b[0;34m)\u001b[0m\u001b[0;34m\u001b[0m\u001b[0;34m\u001b[0m\u001b[0m\n\u001b[0;32m----> 3\u001b[0;31m     \u001b[0mprint\u001b[0m\u001b[0;34m(\u001b[0m\u001b[0;34m'CD'\u001b[0m\u001b[0;34m,\u001b[0m \u001b[0mcolumnData\u001b[0m\u001b[0;34m.\u001b[0m\u001b[0mvalues\u001b[0m\u001b[0;34m.\u001b[0m\u001b[0msum\u001b[0m\u001b[0;34m(\u001b[0m\u001b[0maxis\u001b[0m\u001b[0;34m=\u001b[0m\u001b[0;36m1\u001b[0m\u001b[0;34m,\u001b[0m\u001b[0mskipna\u001b[0m\u001b[0;34m=\u001b[0m\u001b[0;32mTrue\u001b[0m\u001b[0;34m)\u001b[0m\u001b[0;34m)\u001b[0m\u001b[0;34m\u001b[0m\u001b[0;34m\u001b[0m\u001b[0m\n\u001b[0m",
      "\u001b[0;31mTypeError\u001b[0m: _sum() got an unexpected keyword argument 'skipna'"
     ]
    }
   ],
   "source": [
    "for columnName, columnData in calc_df.iteritems():\n",
    "    print('CN', columnName)\n",
    "    print('CD', columnData.values.sum(axis=1,skipna = True))"
   ]
  },
  {
   "cell_type": "code",
   "execution_count": null,
   "id": "whole-procedure",
   "metadata": {},
   "outputs": [],
   "source": []
  }
 ],
 "metadata": {
  "kernelspec": {
   "display_name": "Python 3",
   "language": "python",
   "name": "python3"
  },
  "language_info": {
   "codemirror_mode": {
    "name": "ipython",
    "version": 3
   },
   "file_extension": ".py",
   "mimetype": "text/x-python",
   "name": "python",
   "nbconvert_exporter": "python",
   "pygments_lexer": "ipython3",
   "version": "3.6.10"
  }
 },
 "nbformat": 4,
 "nbformat_minor": 5
}
